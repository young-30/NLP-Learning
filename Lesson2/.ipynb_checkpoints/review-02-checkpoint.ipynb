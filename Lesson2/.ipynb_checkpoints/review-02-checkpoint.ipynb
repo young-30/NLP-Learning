{
 "cells": [
  {
   "cell_type": "markdown",
   "metadata": {},
   "source": [
    "# Lesson2  Part1 --BFS DFS Optimal Search"
   ]
  },
  {
   "cell_type": "code",
   "execution_count": 38,
   "metadata": {},
   "outputs": [],
   "source": [
    "coordination_source = \"\"\"\n",
    "{name:'兰州', geoCoord:[103.73, 36.03]},\n",
    "{name:'嘉峪关', geoCoord:[98.17, 39.47]},\n",
    "{name:'西宁', geoCoord:[101.74, 36.56]},\n",
    "{name:'成都', geoCoord:[104.06, 30.67]},\n",
    "{name:'石家庄', geoCoord:[114.48, 38.03]},\n",
    "{name:'拉萨', geoCoord:[102.73, 25.04]},\n",
    "{name:'贵阳', geoCoord:[106.71, 26.57]},\n",
    "{name:'武汉', geoCoord:[114.31, 30.52]},\n",
    "{name:'郑州', geoCoord:[113.65, 34.76]},\n",
    "{name:'济南', geoCoord:[117, 36.65]},\n",
    "{name:'南京', geoCoord:[118.78, 32.04]},\n",
    "{name:'合肥', geoCoord:[117.27, 31.86]},\n",
    "{name:'杭州', geoCoord:[120.19, 30.26]},\n",
    "{name:'南昌', geoCoord:[115.89, 28.68]},\n",
    "{name:'福州', geoCoord:[119.3, 26.08]},\n",
    "{name:'广州', geoCoord:[113.23, 23.16]},\n",
    "{name:'长沙', geoCoord:[113, 28.21]},\n",
    "//{name:'海口', geoCoord:[110.35, 20.02]},\n",
    "{name:'沈阳', geoCoord:[123.38, 41.8]},\n",
    "{name:'长春', geoCoord:[125.35, 43.88]},\n",
    "{name:'哈尔滨', geoCoord:[126.63, 45.75]},\n",
    "{name:'太原', geoCoord:[112.53, 37.87]},\n",
    "{name:'西安', geoCoord:[108.95, 34.27]},\n",
    "//{name:'台湾', geoCoord:[121.30, 25.03]},\n",
    "{name:'北京', geoCoord:[116.46, 39.92]},\n",
    "{name:'上海', geoCoord:[121.48, 31.22]},\n",
    "{name:'重庆', geoCoord:[106.54, 29.59]},\n",
    "{name:'天津', geoCoord:[117.2, 39.13]},\n",
    "{name:'呼和浩特', geoCoord:[111.65, 40.82]},\n",
    "{name:'南宁', geoCoord:[108.33, 22.84]},\n",
    "//{name:'西藏', geoCoord:[91.11, 29.97]},\n",
    "{name:'银川', geoCoord:[106.27, 38.47]},\n",
    "{name:'乌鲁木齐', geoCoord:[87.68, 43.77]},\n",
    "{name:'香港', geoCoord:[114.17, 22.28]},\n",
    "{name:'澳门', geoCoord:[113.54, 22.19]}\n",
    "\"\"\""
   ]
  },
  {
   "cell_type": "markdown",
   "metadata": {},
   "source": [
    "### Test case for re"
   ]
  },
  {
   "cell_type": "code",
   "execution_count": 39,
   "metadata": {},
   "outputs": [],
   "source": [
    "import re"
   ]
  },
  {
   "cell_type": "code",
   "execution_count": 40,
   "metadata": {},
   "outputs": [],
   "source": [
    "string = \"color or colour\"\n",
    "pattern = re.compile(\"colou?r\")   #u?表示u存在或不存在，*?, +?, ??表示启用对应的非贪婪模式"
   ]
  },
  {
   "cell_type": "code",
   "execution_count": 41,
   "metadata": {},
   "outputs": [
    {
     "data": {
      "text/plain": [
       "['color', 'colour']"
      ]
     },
     "execution_count": 41,
     "metadata": {},
     "output_type": "execute_result"
    }
   ],
   "source": [
    "pattern.findall(string)"
   ]
  },
  {
   "cell_type": "code",
   "execution_count": 42,
   "metadata": {},
   "outputs": [
    {
     "data": {
      "text/plain": [
       "['c', 'o', 'l', 'o', 'r', 'o', 'r', 'c', 'o', 'l', 'o', 'u', 'r']"
      ]
     },
     "execution_count": 42,
     "metadata": {},
     "output_type": "execute_result"
    }
   ],
   "source": [
    "re.findall(\"[a-z]\",string)"
   ]
  },
  {
   "cell_type": "markdown",
   "metadata": {},
   "source": [
    "### Process data"
   ]
  },
  {
   "cell_type": "code",
   "execution_count": 43,
   "metadata": {},
   "outputs": [],
   "source": [
    "def get_city_info(city_info):\n",
    "    city_location = dict()\n",
    "    for line in city_info.split('\\n'):\n",
    "        if line.startswith('//'):\n",
    "            continue\n",
    "        if line.strip()==\"\":    #第一行和最后一行其实为空行，也需要去掉\n",
    "            continue\n",
    "        \n",
    "        city_name = re.findall(\"name:'(\\w+)'\", line)[0]\n",
    "        loct_info = re.findall(\"geoCoord:\\[(.*?)\\]\", line)[0].split(', ')\n",
    "        city_location[city_name] = tuple(map(float, loct_info))\n",
    "        \n",
    "    return city_location\n",
    "    "
   ]
  },
  {
   "cell_type": "code",
   "execution_count": 44,
   "metadata": {},
   "outputs": [],
   "source": [
    "city_info = get_city_info(coordination_source)"
   ]
  },
  {
   "cell_type": "code",
   "execution_count": 45,
   "metadata": {},
   "outputs": [
    {
     "data": {
      "text/plain": [
       "{'兰州': (103.73, 36.03),\n",
       " '嘉峪关': (98.17, 39.47),\n",
       " '西宁': (101.74, 36.56),\n",
       " '成都': (104.06, 30.67),\n",
       " '石家庄': (114.48, 38.03),\n",
       " '拉萨': (102.73, 25.04),\n",
       " '贵阳': (106.71, 26.57),\n",
       " '武汉': (114.31, 30.52),\n",
       " '郑州': (113.65, 34.76),\n",
       " '济南': (117.0, 36.65),\n",
       " '南京': (118.78, 32.04),\n",
       " '合肥': (117.27, 31.86),\n",
       " '杭州': (120.19, 30.26),\n",
       " '南昌': (115.89, 28.68),\n",
       " '福州': (119.3, 26.08),\n",
       " '广州': (113.23, 23.16),\n",
       " '长沙': (113.0, 28.21),\n",
       " '沈阳': (123.38, 41.8),\n",
       " '长春': (125.35, 43.88),\n",
       " '哈尔滨': (126.63, 45.75),\n",
       " '太原': (112.53, 37.87),\n",
       " '西安': (108.95, 34.27),\n",
       " '北京': (116.46, 39.92),\n",
       " '上海': (121.48, 31.22),\n",
       " '重庆': (106.54, 29.59),\n",
       " '天津': (117.2, 39.13),\n",
       " '呼和浩特': (111.65, 40.82),\n",
       " '南宁': (108.33, 22.84),\n",
       " '银川': (106.27, 38.47),\n",
       " '乌鲁木齐': (87.68, 43.77),\n",
       " '香港': (114.17, 22.28),\n",
       " '澳门': (113.54, 22.19)}"
      ]
     },
     "execution_count": 45,
     "metadata": {},
     "output_type": "execute_result"
    }
   ],
   "source": [
    "city_info"
   ]
  },
  {
   "cell_type": "markdown",
   "metadata": {},
   "source": [
    "### Compute distance between cities"
   ]
  },
  {
   "cell_type": "code",
   "execution_count": 46,
   "metadata": {},
   "outputs": [],
   "source": [
    "import math\n",
    "\n",
    "def geo_distance(origin, destination):\n",
    "    \"\"\"\n",
    "    Calculate the Haversine distance.\n",
    "\n",
    "    Parameters\n",
    "    ----------\n",
    "    origin : tuple of float\n",
    "        (lat, long)\n",
    "    destination : tuple of float\n",
    "        (lat, long)\n",
    "\n",
    "    Returns\n",
    "    -------\n",
    "    distance_in_km : float\n",
    "\n",
    "    Examples\n",
    "    --------\n",
    "    >>> origin = (48.1372, 11.5756)  # Munich\n",
    "    >>> destination = (52.5186, 13.4083)  # Berlin\n",
    "    >>> round(distance(origin, destination), 1)\n",
    "    504.2\n",
    "    \"\"\"\n",
    "    lat1, lon1 = origin\n",
    "    lat2, lon2 = destination\n",
    "    radius = 6371  # km\n",
    "\n",
    "    dlat = math.radians(lat2 - lat1)\n",
    "    dlon = math.radians(lon2 - lon1)\n",
    "    a = (math.sin(dlat / 2) * math.sin(dlat / 2) +\n",
    "         math.cos(math.radians(lat1)) * math.cos(math.radians(lat2)) *\n",
    "         math.sin(dlon / 2) * math.sin(dlon / 2))\n",
    "    c = 2 * math.atan2(math.sqrt(a), math.sqrt(1 - a))\n",
    "    d = radius * c\n",
    "\n",
    "    return d"
   ]
  },
  {
   "cell_type": "code",
   "execution_count": 47,
   "metadata": {},
   "outputs": [
    {
     "data": {
      "text/plain": [
       "622.227303366273"
      ]
     },
     "execution_count": 47,
     "metadata": {},
     "output_type": "execute_result"
    }
   ],
   "source": [
    "geo_distance((103.73, 36.03),(98.17, 39.47))"
   ]
  },
  {
   "cell_type": "code",
   "execution_count": 48,
   "metadata": {},
   "outputs": [],
   "source": [
    "def get_distance(city1, city2):\n",
    "    return geo_distance(city_info[city1], city_info[city2])"
   ]
  },
  {
   "cell_type": "code",
   "execution_count": 49,
   "metadata": {},
   "outputs": [
    {
     "data": {
      "text/plain": [
       "168.16731900926806"
      ]
     },
     "execution_count": 49,
     "metadata": {},
     "output_type": "execute_result"
    }
   ],
   "source": [
    "get_distance('南京', '合肥')"
   ]
  },
  {
   "cell_type": "markdown",
   "metadata": {},
   "source": [
    "### Draw the graph"
   ]
  },
  {
   "cell_type": "code",
   "execution_count": 50,
   "metadata": {},
   "outputs": [],
   "source": [
    "import networkx as nx  ## 生成网络图的包，配合matplotlib画出图像\n",
    "import matplotlib.pyplot as plt\n",
    "\n",
    "#设置一些参数，可以显示中文(nx.draw()会调用plt包)：\n",
    "# %matplotlib inline\n",
    "plt.rcParams['font.sans-serif'] = ['SimHei']\n",
    "plt.rcParams['axes.unicode_minus'] = False\n"
   ]
  },
  {
   "cell_type": "code",
   "execution_count": 51,
   "metadata": {},
   "outputs": [
    {
     "data": {
      "text/plain": [
       "dict_keys(['兰州', '嘉峪关', '西宁', '成都', '石家庄', '拉萨', '贵阳', '武汉', '郑州', '济南', '南京', '合肥', '杭州', '南昌', '福州', '广州', '长沙', '沈阳', '长春', '哈尔滨', '太原', '西安', '北京', '上海', '重庆', '天津', '呼和浩特', '南宁', '银川', '乌鲁木齐', '香港', '澳门'])"
      ]
     },
     "execution_count": 51,
     "metadata": {},
     "output_type": "execute_result"
    }
   ],
   "source": [
    "city_info.keys()"
   ]
  },
  {
   "cell_type": "code",
   "execution_count": 52,
   "metadata": {},
   "outputs": [],
   "source": [
    "city_graph = nx.Graph()  # 创建空的简单图\n",
    "\n",
    "city_graph.add_nodes_from(list(city_info.keys()))  # 加列表中的点"
   ]
  },
  {
   "cell_type": "code",
   "execution_count": 53,
   "metadata": {},
   "outputs": [
    {
     "data": {
      "image/png": "[encoded data removed]",
      "text/plain": [
       "<Figure size 432x288 with 1 Axes>"
      ]
     },
     "metadata": {},
     "output_type": "display_data"
    }
   ],
   "source": [
    "nx.draw(city_graph, city_info, with_labels=True, node_size=5)"
   ]
  },
  {
   "cell_type": "markdown",
   "metadata": {},
   "source": [
    "### Build connetion (over 700km means connected)"
   ]
  },
  {
   "cell_type": "code",
   "execution_count": 54,
   "metadata": {},
   "outputs": [],
   "source": [
    "threshold = 700    # defined the threshold"
   ]
  },
  {
   "cell_type": "code",
   "execution_count": 55,
   "metadata": {},
   "outputs": [],
   "source": [
    "from collections import defaultdict  ## 使用dict时，如果引用的Key不存在，就会抛出KeyError。如果希望key不存在时，返回一个默认值，就可以用defaultdict\n",
    "\n",
    "def bulid_connection(city_info):\n",
    "    cities_connection = defaultdict(list)  ##list是一个函数\n",
    "    cities = list(city_info.keys())\n",
    "    for city1 in cities:\n",
    "        for city2 in cities:\n",
    "            if city1 == city2:\n",
    "                continue\n",
    "                \n",
    "            if get_distance(city1, city2) < threshold:\n",
    "                cities_connection[city1].append(city2)\n",
    "    return cities_connection"
   ]
  },
  {
   "cell_type": "code",
   "execution_count": 56,
   "metadata": {},
   "outputs": [],
   "source": [
    "cities_connection = bulid_connection(city_info)"
   ]
  },
  {
   "cell_type": "code",
   "execution_count": 57,
   "metadata": {},
   "outputs": [
    {
     "data": {
      "text/plain": [
       "defaultdict(list,\n",
       "            {'兰州': ['嘉峪关', '西宁', '成都', '拉萨', '贵阳', '西安', '重庆', '南宁', '银川'],\n",
       "             '嘉峪关': ['兰州', '西宁', '成都', '拉萨'],\n",
       "             '西宁': ['兰州', '嘉峪关', '成都', '拉萨', '贵阳', '重庆', '银川'],\n",
       "             '成都': ['兰州', '嘉峪关', '西宁', '拉萨', '贵阳', '西安', '重庆', '南宁', '银川'],\n",
       "             '石家庄': ['武汉',\n",
       "              '郑州',\n",
       "              '济南',\n",
       "              '南京',\n",
       "              '合肥',\n",
       "              '南昌',\n",
       "              '广州',\n",
       "              '长沙',\n",
       "              '太原',\n",
       "              '西安',\n",
       "              '北京',\n",
       "              '天津',\n",
       "              '呼和浩特'],\n",
       "             '拉萨': ['兰州', '嘉峪关', '西宁', '成都', '贵阳', '重庆', '南宁', '银川'],\n",
       "             '贵阳': ['兰州', '西宁', '成都', '拉萨', '西安', '重庆', '南宁', '银川'],\n",
       "             '武汉': ['石家庄',\n",
       "              '郑州',\n",
       "              '济南',\n",
       "              '南京',\n",
       "              '合肥',\n",
       "              '杭州',\n",
       "              '南昌',\n",
       "              '福州',\n",
       "              '广州',\n",
       "              '长沙',\n",
       "              '太原',\n",
       "              '西安',\n",
       "              '北京',\n",
       "              '天津',\n",
       "              '呼和浩特',\n",
       "              '香港',\n",
       "              '澳门'],\n",
       "             '郑州': ['石家庄',\n",
       "              '武汉',\n",
       "              '济南',\n",
       "              '南京',\n",
       "              '合肥',\n",
       "              '南昌',\n",
       "              '广州',\n",
       "              '长沙',\n",
       "              '太原',\n",
       "              '西安',\n",
       "              '北京',\n",
       "              '天津',\n",
       "              '呼和浩特',\n",
       "              '香港',\n",
       "              '澳门'],\n",
       "             '济南': ['石家庄',\n",
       "              '武汉',\n",
       "              '郑州',\n",
       "              '南京',\n",
       "              '合肥',\n",
       "              '杭州',\n",
       "              '南昌',\n",
       "              '福州',\n",
       "              '长沙',\n",
       "              '太原',\n",
       "              '北京',\n",
       "              '上海',\n",
       "              '天津',\n",
       "              '呼和浩特'],\n",
       "             '南京': ['石家庄',\n",
       "              '武汉',\n",
       "              '郑州',\n",
       "              '济南',\n",
       "              '合肥',\n",
       "              '杭州',\n",
       "              '南昌',\n",
       "              '福州',\n",
       "              '长沙',\n",
       "              '北京',\n",
       "              '上海',\n",
       "              '天津'],\n",
       "             '合肥': ['石家庄',\n",
       "              '武汉',\n",
       "              '郑州',\n",
       "              '济南',\n",
       "              '南京',\n",
       "              '杭州',\n",
       "              '南昌',\n",
       "              '福州',\n",
       "              '广州',\n",
       "              '长沙',\n",
       "              '太原',\n",
       "              '北京',\n",
       "              '上海',\n",
       "              '天津',\n",
       "              '香港',\n",
       "              '澳门'],\n",
       "             '杭州': ['武汉', '济南', '南京', '合肥', '南昌', '福州', '北京', '上海', '天津'],\n",
       "             '南昌': ['石家庄',\n",
       "              '武汉',\n",
       "              '郑州',\n",
       "              '济南',\n",
       "              '南京',\n",
       "              '合肥',\n",
       "              '杭州',\n",
       "              '福州',\n",
       "              '广州',\n",
       "              '长沙',\n",
       "              '太原',\n",
       "              '北京',\n",
       "              '上海',\n",
       "              '天津',\n",
       "              '香港',\n",
       "              '澳门'],\n",
       "             '福州': ['武汉',\n",
       "              '济南',\n",
       "              '南京',\n",
       "              '合肥',\n",
       "              '杭州',\n",
       "              '南昌',\n",
       "              '广州',\n",
       "              '上海',\n",
       "              '香港',\n",
       "              '澳门'],\n",
       "             '广州': ['石家庄',\n",
       "              '武汉',\n",
       "              '郑州',\n",
       "              '合肥',\n",
       "              '南昌',\n",
       "              '福州',\n",
       "              '长沙',\n",
       "              '太原',\n",
       "              '西安',\n",
       "              '南宁',\n",
       "              '香港',\n",
       "              '澳门'],\n",
       "             '长沙': ['石家庄',\n",
       "              '武汉',\n",
       "              '郑州',\n",
       "              '济南',\n",
       "              '南京',\n",
       "              '合肥',\n",
       "              '南昌',\n",
       "              '广州',\n",
       "              '太原',\n",
       "              '西安',\n",
       "              '北京',\n",
       "              '天津',\n",
       "              '呼和浩特',\n",
       "              '南宁',\n",
       "              '香港',\n",
       "              '澳门'],\n",
       "             '沈阳': ['长春', '哈尔滨', '上海'],\n",
       "             '长春': ['沈阳', '哈尔滨'],\n",
       "             '哈尔滨': ['沈阳', '长春'],\n",
       "             '太原': ['石家庄',\n",
       "              '武汉',\n",
       "              '郑州',\n",
       "              '济南',\n",
       "              '合肥',\n",
       "              '南昌',\n",
       "              '广州',\n",
       "              '长沙',\n",
       "              '西安',\n",
       "              '北京',\n",
       "              '天津',\n",
       "              '呼和浩特',\n",
       "              '银川',\n",
       "              '澳门'],\n",
       "             '西安': ['兰州',\n",
       "              '成都',\n",
       "              '石家庄',\n",
       "              '贵阳',\n",
       "              '武汉',\n",
       "              '郑州',\n",
       "              '广州',\n",
       "              '长沙',\n",
       "              '太原',\n",
       "              '重庆',\n",
       "              '呼和浩特',\n",
       "              '南宁',\n",
       "              '银川'],\n",
       "             '北京': ['石家庄',\n",
       "              '武汉',\n",
       "              '郑州',\n",
       "              '济南',\n",
       "              '南京',\n",
       "              '合肥',\n",
       "              '杭州',\n",
       "              '南昌',\n",
       "              '长沙',\n",
       "              '太原',\n",
       "              '天津',\n",
       "              '呼和浩特'],\n",
       "             '上海': ['济南', '南京', '合肥', '杭州', '南昌', '福州', '沈阳', '天津'],\n",
       "             '重庆': ['兰州', '西宁', '成都', '拉萨', '贵阳', '西安', '呼和浩特', '南宁', '银川'],\n",
       "             '天津': ['石家庄',\n",
       "              '武汉',\n",
       "              '郑州',\n",
       "              '济南',\n",
       "              '南京',\n",
       "              '合肥',\n",
       "              '杭州',\n",
       "              '南昌',\n",
       "              '长沙',\n",
       "              '太原',\n",
       "              '北京',\n",
       "              '上海',\n",
       "              '呼和浩特'],\n",
       "             '呼和浩特': ['石家庄',\n",
       "              '武汉',\n",
       "              '郑州',\n",
       "              '济南',\n",
       "              '长沙',\n",
       "              '太原',\n",
       "              '西安',\n",
       "              '北京',\n",
       "              '重庆',\n",
       "              '天津',\n",
       "              '银川'],\n",
       "             '南宁': ['兰州',\n",
       "              '成都',\n",
       "              '拉萨',\n",
       "              '贵阳',\n",
       "              '广州',\n",
       "              '长沙',\n",
       "              '西安',\n",
       "              '重庆',\n",
       "              '银川',\n",
       "              '香港',\n",
       "              '澳门'],\n",
       "             '银川': ['兰州',\n",
       "              '西宁',\n",
       "              '成都',\n",
       "              '拉萨',\n",
       "              '贵阳',\n",
       "              '太原',\n",
       "              '西安',\n",
       "              '重庆',\n",
       "              '呼和浩特',\n",
       "              '南宁'],\n",
       "             '香港': ['武汉', '郑州', '合肥', '南昌', '福州', '广州', '长沙', '南宁', '澳门'],\n",
       "             '澳门': ['武汉',\n",
       "              '郑州',\n",
       "              '合肥',\n",
       "              '南昌',\n",
       "              '福州',\n",
       "              '广州',\n",
       "              '长沙',\n",
       "              '太原',\n",
       "              '南宁',\n",
       "              '香港']})"
      ]
     },
     "execution_count": 57,
     "metadata": {},
     "output_type": "execute_result"
    }
   ],
   "source": [
    "cities_connection"
   ]
  },
  {
   "cell_type": "markdown",
   "metadata": {},
   "source": [
    "### Draw the connection graph"
   ]
  },
  {
   "cell_type": "code",
   "execution_count": 58,
   "metadata": {},
   "outputs": [
    {
     "name": "stderr",
     "output_type": "stream",
     "text": [
      "D:\\Application\\Python\\Anoconda\\Anaconda3\\lib\\site-packages\\networkx\\drawing\\nx_pylab.py:611: MatplotlibDeprecationWarning: isinstance(..., numbers.Number)\n",
      "  if cb.is_numlike(alpha):\n"
     ]
    },
    {
     "data": {
      "image/png": "[encoded data removed]",
      "text/plain": [
       "<Figure size 432x288 with 1 Axes>"
      ]
     },
     "metadata": {},
     "output_type": "display_data"
    }
   ],
   "source": [
    "cities_connection_graph = nx.Graph(cities_connection)\n",
    "nx.draw(cities_connection_graph, city_info, with_labels=True, node_size=10)"
   ]
  },
  {
   "cell_type": "markdown",
   "metadata": {},
   "source": [
    "### BFS version1"
   ]
  },
  {
   "cell_type": "code",
   "execution_count": 59,
   "metadata": {},
   "outputs": [],
   "source": [
    "def BFS_search(graph, start, destination):\n",
    "    pathes = [[start]]  # 路径列表，里面有多条路径\n",
    "    visited = set()  # 记录已遍历过的点\n",
    "    \n",
    "    while pathes:\n",
    "        path = pathes.pop(0) # pop之后pathes值变化\n",
    "        froniter = path[-1]\n",
    "        \n",
    "        if froniter in visited: # 如果在已经遍历的列表里，则跳过\n",
    "            continue\n",
    "            \n",
    "        successsors = graph[froniter]\n",
    "        \n",
    "        for city in successsors:\n",
    "            if city in path: continue  # check loop，检查回路\n",
    "            \n",
    "            new_path = path + [city]\n",
    "            \n",
    "            pathes.append(new_path)  #bfs\n",
    "#             pathes = [new_path] + pathes #dfs\n",
    "            \n",
    "            if city == destination:\n",
    "#                 print('visited:',visited)\n",
    "                return new_path\n",
    "                \n",
    "            \n",
    "        visited.add(froniter)"
   ]
  },
  {
   "cell_type": "code",
   "execution_count": 60,
   "metadata": {},
   "outputs": [
    {
     "name": "stdout",
     "output_type": "stream",
     "text": [
      "visited: {'南京', '济南', '上海'}\n"
     ]
    },
    {
     "data": {
      "text/plain": [
       "['上海', '合肥', '香港']"
      ]
     },
     "execution_count": 60,
     "metadata": {},
     "output_type": "execute_result"
    }
   ],
   "source": [
    "BFS_search(cities_connection, '上海', '香港')"
   ]
  },
  {
   "cell_type": "code",
   "execution_count": 61,
   "metadata": {},
   "outputs": [
    {
     "name": "stdout",
     "output_type": "stream",
     "text": [
      "visited: {'嘉峪关', '南宁', '兰州', '西宁', '成都', '重庆', '西安', '拉萨', '贵阳', '银川'}\n"
     ]
    },
    {
     "data": {
      "text/plain": [
       "['拉萨', '重庆', '呼和浩特', '北京']"
      ]
     },
     "execution_count": 61,
     "metadata": {},
     "output_type": "execute_result"
    }
   ],
   "source": [
    "BFS_search(cities_connection, '拉萨', '北京')"
   ]
  },
  {
   "cell_type": "markdown",
   "metadata": {},
   "source": [
    "### Optimal search using variation of BFS"
   ]
  },
  {
   "cell_type": "code",
   "execution_count": 62,
   "metadata": {},
   "outputs": [],
   "source": [
    "def Optimal_search(graph, start, destination, search_strategy):\n",
    "    pathes = [[start]]\n",
    "\n",
    "    while pathes:\n",
    "        path = pathes.pop(0)\n",
    "        froniter = path[-1]\n",
    "        \n",
    "        successsors = graph[froniter]\n",
    "        \n",
    "        for city in successsors:\n",
    "            if city in path: continue  # check loop\n",
    "            \n",
    "            new_path = path + [city]\n",
    "            \n",
    "            pathes.append(new_path)  #bfs\n",
    "            \n",
    "        pathes = search_strategy(pathes)  # 重排后立刻进行判断\n",
    "\n",
    "        if pathes and (destination == pathes[0][-1]):\n",
    "            return pathes[0]  \n",
    "        "
   ]
  },
  {
   "cell_type": "code",
   "execution_count": 63,
   "metadata": {},
   "outputs": [],
   "source": [
    "def get_distance_of_path(path):\n",
    "    distance = 0\n",
    "    for i,_ in enumerate(path[:-1]):  # 防止索引越界，i只到倒数第二个值\n",
    "        distance += get_distance(path[i],path[i+1])\n",
    "    return distance"
   ]
  },
  {
   "cell_type": "code",
   "execution_count": 64,
   "metadata": {},
   "outputs": [],
   "source": [
    "def sort_by_distance(pathes):\n",
    "    def get_distance_of_path(path):   # 该函数只在sort_by_distance函数里面使用，所以使用返回函数的写法\n",
    "        distance = 0\n",
    "        for i,_ in enumerate(path[:-1]):\n",
    "            distance += get_distance(path[i], path[i+1])\n",
    "        return distance\n",
    "    return sorted(pathes, key=get_distance_of_path)\n"
   ]
  },
  {
   "cell_type": "code",
   "execution_count": 65,
   "metadata": {},
   "outputs": [
    {
     "data": {
      "text/plain": [
       "['北京', '天津', '上海']"
      ]
     },
     "execution_count": 65,
     "metadata": {},
     "output_type": "execute_result"
    }
   ],
   "source": [
    "Optimal_search(cities_connection,'北京', '上海', sort_by_distance)"
   ]
  },
  {
   "cell_type": "code",
   "execution_count": 66,
   "metadata": {},
   "outputs": [
    {
     "name": "stdout",
     "output_type": "stream",
     "text": [
      "visited: {'武汉', '北京', '石家庄', '郑州'}\n"
     ]
    },
    {
     "data": {
      "text/plain": [
       "['北京', '济南', '上海']"
      ]
     },
     "execution_count": 66,
     "metadata": {},
     "output_type": "execute_result"
    }
   ],
   "source": [
    "BFS_search(cities_connection, '北京', '上海')"
   ]
  },
  {
   "cell_type": "code",
   "execution_count": 67,
   "metadata": {},
   "outputs": [
    {
     "name": "stdout",
     "output_type": "stream",
     "text": [
      "732.5085345714293\n",
      "752.66259009181\n"
     ]
    }
   ],
   "source": [
    "print(get_distance_of_path(['北京', '天津', '上海']))\n",
    "print(get_distance_of_path(['北京', '济南', '上海']))"
   ]
  },
  {
   "cell_type": "markdown",
   "metadata": {},
   "source": [
    "# Lesson2  Part2 --Machine Learning"
   ]
  },
  {
   "cell_type": "markdown",
   "metadata": {},
   "source": [
    "### Data process"
   ]
  },
  {
   "cell_type": "code",
   "execution_count": 68,
   "metadata": {},
   "outputs": [],
   "source": [
    "from sklearn.datasets import load_boston"
   ]
  },
  {
   "cell_type": "code",
   "execution_count": 69,
   "metadata": {},
   "outputs": [],
   "source": [
    "import random"
   ]
  },
  {
   "cell_type": "code",
   "execution_count": 70,
   "metadata": {},
   "outputs": [],
   "source": [
    "dataset = load_boston()"
   ]
  },
  {
   "cell_type": "code",
   "execution_count": 71,
   "metadata": {},
   "outputs": [
    {
     "data": {
      "text/plain": [
       "{'data': array([[6.3200e-03, 1.8000e+01, 2.3100e+00, ..., 1.5300e+01, 3.9690e+02,\n",
       "         4.9800e+00],\n",
       "        [2.7310e-02, 0.0000e+00, 7.0700e+00, ..., 1.7800e+01, 3.9690e+02,\n",
       "         9.1400e+00],\n",
       "        [2.7290e-02, 0.0000e+00, 7.0700e+00, ..., 1.7800e+01, 3.9283e+02,\n",
       "         4.0300e+00],\n",
       "        ...,\n",
       "        [6.0760e-02, 0.0000e+00, 1.1930e+01, ..., 2.1000e+01, 3.9690e+02,\n",
       "         5.6400e+00],\n",
       "        [1.0959e-01, 0.0000e+00, 1.1930e+01, ..., 2.1000e+01, 3.9345e+02,\n",
       "         6.4800e+00],\n",
       "        [4.7410e-02, 0.0000e+00, 1.1930e+01, ..., 2.1000e+01, 3.9690e+02,\n",
       "         7.8800e+00]]),\n",
       " 'target': array([24. , 21.6, 34.7, 33.4, 36.2, 28.7, 22.9, 27.1, 16.5, 18.9, 15. ,\n",
       "        18.9, 21.7, 20.4, 18.2, 19.9, 23.1, 17.5, 20.2, 18.2, 13.6, 19.6,\n",
       "        15.2, 14.5, 15.6, 13.9, 16.6, 14.8, 18.4, 21. , 12.7, 14.5, 13.2,\n",
       "        13.1, 13.5, 18.9, 20. , 21. , 24.7, 30.8, 34.9, 26.6, 25.3, 24.7,\n",
       "        21.2, 19.3, 20. , 16.6, 14.4, 19.4, 19.7, 20.5, 25. , 23.4, 18.9,\n",
       "        35.4, 24.7, 31.6, 23.3, 19.6, 18.7, 16. , 22.2, 25. , 33. , 23.5,\n",
       "        19.4, 22. , 17.4, 20.9, 24.2, 21.7, 22.8, 23.4, 24.1, 21.4, 20. ,\n",
       "        20.8, 21.2, 20.3, 28. , 23.9, 24.8, 22.9, 23.9, 26.6, 22.5, 22.2,\n",
       "        23.6, 28.7, 22.6, 22. , 22.9, 25. , 20.6, 28.4, 21.4, 38.7, 43.8,\n",
       "        33.2, 27.5, 26.5, 18.6, 19.3, 20.1, 19.5, 19.5, 20.4, 19.8, 19.4,\n",
       "        21.7, 22.8, 18.8, 18.7, 18.5, 18.3, 21.2, 19.2, 20.4, 19.3, 22. ,\n",
       "        20.3, 20.5, 17.3, 18.8, 21.4, 15.7, 16.2, 18. , 14.3, 19.2, 19.6,\n",
       "        23. , 18.4, 15.6, 18.1, 17.4, 17.1, 13.3, 17.8, 14. , 14.4, 13.4,\n",
       "        15.6, 11.8, 13.8, 15.6, 14.6, 17.8, 15.4, 21.5, 19.6, 15.3, 19.4,\n",
       "        17. , 15.6, 13.1, 41.3, 24.3, 23.3, 27. , 50. , 50. , 50. , 22.7,\n",
       "        25. , 50. , 23.8, 23.8, 22.3, 17.4, 19.1, 23.1, 23.6, 22.6, 29.4,\n",
       "        23.2, 24.6, 29.9, 37.2, 39.8, 36.2, 37.9, 32.5, 26.4, 29.6, 50. ,\n",
       "        32. , 29.8, 34.9, 37. , 30.5, 36.4, 31.1, 29.1, 50. , 33.3, 30.3,\n",
       "        34.6, 34.9, 32.9, 24.1, 42.3, 48.5, 50. , 22.6, 24.4, 22.5, 24.4,\n",
       "        20. , 21.7, 19.3, 22.4, 28.1, 23.7, 25. , 23.3, 28.7, 21.5, 23. ,\n",
       "        26.7, 21.7, 27.5, 30.1, 44.8, 50. , 37.6, 31.6, 46.7, 31.5, 24.3,\n",
       "        31.7, 41.7, 48.3, 29. , 24. , 25.1, 31.5, 23.7, 23.3, 22. , 20.1,\n",
       "        22.2, 23.7, 17.6, 18.5, 24.3, 20.5, 24.5, 26.2, 24.4, 24.8, 29.6,\n",
       "        42.8, 21.9, 20.9, 44. , 50. , 36. , 30.1, 33.8, 43.1, 48.8, 31. ,\n",
       "        36.5, 22.8, 30.7, 50. , 43.5, 20.7, 21.1, 25.2, 24.4, 35.2, 32.4,\n",
       "        32. , 33.2, 33.1, 29.1, 35.1, 45.4, 35.4, 46. , 50. , 32.2, 22. ,\n",
       "        20.1, 23.2, 22.3, 24.8, 28.5, 37.3, 27.9, 23.9, 21.7, 28.6, 27.1,\n",
       "        20.3, 22.5, 29. , 24.8, 22. , 26.4, 33.1, 36.1, 28.4, 33.4, 28.2,\n",
       "        22.8, 20.3, 16.1, 22.1, 19.4, 21.6, 23.8, 16.2, 17.8, 19.8, 23.1,\n",
       "        21. , 23.8, 23.1, 20.4, 18.5, 25. , 24.6, 23. , 22.2, 19.3, 22.6,\n",
       "        19.8, 17.1, 19.4, 22.2, 20.7, 21.1, 19.5, 18.5, 20.6, 19. , 18.7,\n",
       "        32.7, 16.5, 23.9, 31.2, 17.5, 17.2, 23.1, 24.5, 26.6, 22.9, 24.1,\n",
       "        18.6, 30.1, 18.2, 20.6, 17.8, 21.7, 22.7, 22.6, 25. , 19.9, 20.8,\n",
       "        16.8, 21.9, 27.5, 21.9, 23.1, 50. , 50. , 50. , 50. , 50. , 13.8,\n",
       "        13.8, 15. , 13.9, 13.3, 13.1, 10.2, 10.4, 10.9, 11.3, 12.3,  8.8,\n",
       "         7.2, 10.5,  7.4, 10.2, 11.5, 15.1, 23.2,  9.7, 13.8, 12.7, 13.1,\n",
       "        12.5,  8.5,  5. ,  6.3,  5.6,  7.2, 12.1,  8.3,  8.5,  5. , 11.9,\n",
       "        27.9, 17.2, 27.5, 15. , 17.2, 17.9, 16.3,  7. ,  7.2,  7.5, 10.4,\n",
       "         8.8,  8.4, 16.7, 14.2, 20.8, 13.4, 11.7,  8.3, 10.2, 10.9, 11. ,\n",
       "         9.5, 14.5, 14.1, 16.1, 14.3, 11.7, 13.4,  9.6,  8.7,  8.4, 12.8,\n",
       "        10.5, 17.1, 18.4, 15.4, 10.8, 11.8, 14.9, 12.6, 14.1, 13. , 13.4,\n",
       "        15.2, 16.1, 17.8, 14.9, 14.1, 12.7, 13.5, 14.9, 20. , 16.4, 17.7,\n",
       "        19.5, 20.2, 21.4, 19.9, 19. , 19.1, 19.1, 20.1, 19.9, 19.6, 23.2,\n",
       "        29.8, 13.8, 13.3, 16.7, 12. , 14.6, 21.4, 23. , 23.7, 25. , 21.8,\n",
       "        20.6, 21.2, 19.1, 20.6, 15.2,  7. ,  8.1, 13.6, 20.1, 21.8, 24.5,\n",
       "        23.1, 19.7, 18.3, 21.2, 17.5, 16.8, 22.4, 20.6, 23.9, 22. , 11.9]),\n",
       " 'feature_names': array(['CRIM', 'ZN', 'INDUS', 'CHAS', 'NOX', 'RM', 'AGE', 'DIS', 'RAD',\n",
       "        'TAX', 'PTRATIO', 'B', 'LSTAT'], dtype='<U7'),\n",
       " 'DESCR': \".. _boston_dataset:\\n\\nBoston house prices dataset\\n---------------------------\\n\\n**Data Set Characteristics:**  \\n\\n    :Number of Instances: 506 \\n\\n    :Number of Attributes: 13 numeric/categorical predictive. Median Value (attribute 14) is usually the target.\\n\\n    :Attribute Information (in order):\\n        - CRIM     per capita crime rate by town\\n        - ZN       proportion of residential land zoned for lots over 25,000 sq.ft.\\n        - INDUS    proportion of non-retail business acres per town\\n        - CHAS     Charles River dummy variable (= 1 if tract bounds river; 0 otherwise)\\n        - NOX      nitric oxides concentration (parts per 10 million)\\n        - RM       average number of rooms per dwelling\\n        - AGE      proportion of owner-occupied units built prior to 1940\\n        - DIS      weighted distances to five Boston employment centres\\n        - RAD      index of accessibility to radial highways\\n        - TAX      full-value property-tax rate per $10,000\\n        - PTRATIO  pupil-teacher ratio by town\\n        - B        1000(Bk - 0.63)^2 where Bk is the proportion of blacks by town\\n        - LSTAT    % lower status of the population\\n        - MEDV     Median value of owner-occupied homes in $1000's\\n\\n    :Missing Attribute Values: None\\n\\n    :Creator: Harrison, D. and Rubinfeld, D.L.\\n\\nThis is a copy of UCI ML housing dataset.\\nhttps://archive.ics.uci.edu/ml/machine-learning-databases/housing/\\n\\n\\nThis dataset was taken from the StatLib library which is maintained at Carnegie Mellon University.\\n\\nThe Boston house-price data of Harrison, D. and Rubinfeld, D.L. 'Hedonic\\nprices and the demand for clean air', J. Environ. Economics & Management,\\nvol.5, 81-102, 1978.   Used in Belsley, Kuh & Welsch, 'Regression diagnostics\\n...', Wiley, 1980.   N.B. Various transformations are used in the table on\\npages 244-261 of the latter.\\n\\nThe Boston house-price data has been used in many machine learning papers that address regression\\nproblems.   \\n     \\n.. topic:: References\\n\\n   - Belsley, Kuh & Welsch, 'Regression diagnostics: Identifying Influential Data and Sources of Collinearity', Wiley, 1980. 244-261.\\n   - Quinlan,R. (1993). Combining Instance-Based and Model-Based Learning. In Proceedings on the Tenth International Conference of Machine Learning, 236-243, University of Massachusetts, Amherst. Morgan Kaufmann.\\n\",\n",
       " 'filename': 'D:\\\\Application\\\\Python\\\\Anoconda\\\\Anaconda3\\\\lib\\\\site-packages\\\\sklearn\\\\datasets\\\\data\\\\boston_house_prices.csv'}"
      ]
     },
     "execution_count": 71,
     "metadata": {},
     "output_type": "execute_result"
    }
   ],
   "source": [
    "dataset"
   ]
  },
  {
   "cell_type": "code",
   "execution_count": 72,
   "metadata": {},
   "outputs": [],
   "source": [
    "# dataset.data"
   ]
  },
  {
   "cell_type": "code",
   "execution_count": 73,
   "metadata": {},
   "outputs": [],
   "source": [
    "x,y = dataset['data'], dataset['target']"
   ]
  },
  {
   "cell_type": "code",
   "execution_count": 74,
   "metadata": {},
   "outputs": [
    {
     "data": {
      "text/plain": [
       "(506, 13)"
      ]
     },
     "execution_count": 74,
     "metadata": {},
     "output_type": "execute_result"
    }
   ],
   "source": [
    "x.shape"
   ]
  },
  {
   "cell_type": "code",
   "execution_count": 75,
   "metadata": {},
   "outputs": [
    {
     "data": {
      "text/plain": [
       "(506,)"
      ]
     },
     "execution_count": 75,
     "metadata": {},
     "output_type": "execute_result"
    }
   ],
   "source": [
    "y.shape"
   ]
  },
  {
   "cell_type": "code",
   "execution_count": 76,
   "metadata": {},
   "outputs": [
    {
     "data": {
      "text/plain": [
       "(13,)"
      ]
     },
     "execution_count": 76,
     "metadata": {},
     "output_type": "execute_result"
    }
   ],
   "source": [
    "x[1].shape"
   ]
  },
  {
   "cell_type": "code",
   "execution_count": 77,
   "metadata": {},
   "outputs": [
    {
     "data": {
      "text/plain": [
       "array(['CRIM', 'ZN', 'INDUS', 'CHAS', 'NOX', 'RM', 'AGE', 'DIS', 'RAD',\n",
       "       'TAX', 'PTRATIO', 'B', 'LSTAT'], dtype='<U7')"
      ]
     },
     "execution_count": 77,
     "metadata": {},
     "output_type": "execute_result"
    }
   ],
   "source": [
    "dataset.feature_names"
   ]
  },
  {
   "cell_type": "code",
   "execution_count": 78,
   "metadata": {},
   "outputs": [
    {
     "data": {
      "text/plain": [
       "\".. _boston_dataset:\\n\\nBoston house prices dataset\\n---------------------------\\n\\n**Data Set Characteristics:**  \\n\\n    :Number of Instances: 506 \\n\\n    :Number of Attributes: 13 numeric/categorical predictive. Median Value (attribute 14) is usually the target.\\n\\n    :Attribute Information (in order):\\n        - CRIM     per capita crime rate by town\\n        - ZN       proportion of residential land zoned for lots over 25,000 sq.ft.\\n        - INDUS    proportion of non-retail business acres per town\\n        - CHAS     Charles River dummy variable (= 1 if tract bounds river; 0 otherwise)\\n        - NOX      nitric oxides concentration (parts per 10 million)\\n        - RM       average number of rooms per dwelling\\n        - AGE      proportion of owner-occupied units built prior to 1940\\n        - DIS      weighted distances to five Boston employment centres\\n        - RAD      index of accessibility to radial highways\\n        - TAX      full-value property-tax rate per $10,000\\n        - PTRATIO  pupil-teacher ratio by town\\n        - B        1000(Bk - 0.63)^2 where Bk is the proportion of blacks by town\\n        - LSTAT    % lower status of the population\\n        - MEDV     Median value of owner-occupied homes in $1000's\\n\\n    :Missing Attribute Values: None\\n\\n    :Creator: Harrison, D. and Rubinfeld, D.L.\\n\\nThis is a copy of UCI ML housing dataset.\\nhttps://archive.ics.uci.edu/ml/machine-learning-databases/housing/\\n\\n\\nThis dataset was taken from the StatLib library which is maintained at Carnegie Mellon University.\\n\\nThe Boston house-price data of Harrison, D. and Rubinfeld, D.L. 'Hedonic\\nprices and the demand for clean air', J. Environ. Economics & Management,\\nvol.5, 81-102, 1978.   Used in Belsley, Kuh & Welsch, 'Regression diagnostics\\n...', Wiley, 1980.   N.B. Various transformations are used in the table on\\npages 244-261 of the latter.\\n\\nThe Boston house-price data has been used in many machine learning papers that address regression\\nproblems.   \\n     \\n.. topic:: References\\n\\n   - Belsley, Kuh & Welsch, 'Regression diagnostics: Identifying Influential Data and Sources of Collinearity', Wiley, 1980. 244-261.\\n   - Quinlan,R. (1993). Combining Instance-Based and Model-Based Learning. In Proceedings on the Tenth International Conference of Machine Learning, 236-243, University of Massachusetts, Amherst. Morgan Kaufmann.\\n\""
      ]
     },
     "execution_count": 78,
     "metadata": {},
     "output_type": "execute_result"
    }
   ],
   "source": [
    "dataset.DESCR"
   ]
  },
  {
   "cell_type": "code",
   "execution_count": 79,
   "metadata": {},
   "outputs": [
    {
     "data": {
      "text/plain": [
       "array([6.320e-03, 1.800e+01, 2.310e+00, 0.000e+00, 5.380e-01, 6.575e+00,\n",
       "       6.520e+01, 4.090e+00, 1.000e+00, 2.960e+02, 1.530e+01, 3.969e+02,\n",
       "       4.980e+00])"
      ]
     },
     "execution_count": 79,
     "metadata": {},
     "output_type": "execute_result"
    }
   ],
   "source": [
    "x[0]"
   ]
  },
  {
   "cell_type": "code",
   "execution_count": 80,
   "metadata": {
    "scrolled": true
   },
   "outputs": [
    {
     "data": {
      "text/plain": [
       "array([6.575, 6.421, 7.185, 6.998, 7.147, 6.43 , 6.012, 6.172, 5.631,\n",
       "       6.004, 6.377, 6.009, 5.889, 5.949, 6.096, 5.834, 5.935, 5.99 ,\n",
       "       5.456, 5.727, 5.57 , 5.965, 6.142, 5.813, 5.924, 5.599, 5.813,\n",
       "       6.047, 6.495, 6.674, 5.713, 6.072, 5.95 , 5.701, 6.096, 5.933,\n",
       "       5.841, 5.85 , 5.966, 6.595, 7.024, 6.77 , 6.169, 6.211, 6.069,\n",
       "       5.682, 5.786, 6.03 , 5.399, 5.602, 5.963, 6.115, 6.511, 5.998,\n",
       "       5.888, 7.249, 6.383, 6.816, 6.145, 5.927, 5.741, 5.966, 6.456,\n",
       "       6.762, 7.104, 6.29 , 5.787, 5.878, 5.594, 5.885, 6.417, 5.961,\n",
       "       6.065, 6.245, 6.273, 6.286, 6.279, 6.14 , 6.232, 5.874, 6.727,\n",
       "       6.619, 6.302, 6.167, 6.389, 6.63 , 6.015, 6.121, 7.007, 7.079,\n",
       "       6.417, 6.405, 6.442, 6.211, 6.249, 6.625, 6.163, 8.069, 7.82 ,\n",
       "       7.416, 6.727, 6.781, 6.405, 6.137, 6.167, 5.851, 5.836, 6.127,\n",
       "       6.474, 6.229, 6.195, 6.715, 5.913, 6.092, 6.254, 5.928, 6.176,\n",
       "       6.021, 5.872, 5.731, 5.87 , 6.004, 5.961, 5.856, 5.879, 5.986,\n",
       "       5.613, 5.693, 6.431, 5.637, 6.458, 6.326, 6.372, 5.822, 5.757,\n",
       "       6.335, 5.942, 6.454, 5.857, 6.151, 6.174, 5.019, 5.403, 5.468,\n",
       "       4.903, 6.13 , 5.628, 4.926, 5.186, 5.597, 6.122, 5.404, 5.012,\n",
       "       5.709, 6.129, 6.152, 5.272, 6.943, 6.066, 6.51 , 6.25 , 7.489,\n",
       "       7.802, 8.375, 5.854, 6.101, 7.929, 5.877, 6.319, 6.402, 5.875,\n",
       "       5.88 , 5.572, 6.416, 5.859, 6.546, 6.02 , 6.315, 6.86 , 6.98 ,\n",
       "       7.765, 6.144, 7.155, 6.563, 5.604, 6.153, 7.831, 6.782, 6.556,\n",
       "       7.185, 6.951, 6.739, 7.178, 6.8  , 6.604, 7.875, 7.287, 7.107,\n",
       "       7.274, 6.975, 7.135, 6.162, 7.61 , 7.853, 8.034, 5.891, 6.326,\n",
       "       5.783, 6.064, 5.344, 5.96 , 5.404, 5.807, 6.375, 5.412, 6.182,\n",
       "       5.888, 6.642, 5.951, 6.373, 6.951, 6.164, 6.879, 6.618, 8.266,\n",
       "       8.725, 8.04 , 7.163, 7.686, 6.552, 5.981, 7.412, 8.337, 8.247,\n",
       "       6.726, 6.086, 6.631, 7.358, 6.481, 6.606, 6.897, 6.095, 6.358,\n",
       "       6.393, 5.593, 5.605, 6.108, 6.226, 6.433, 6.718, 6.487, 6.438,\n",
       "       6.957, 8.259, 6.108, 5.876, 7.454, 8.704, 7.333, 6.842, 7.203,\n",
       "       7.52 , 8.398, 7.327, 7.206, 5.56 , 7.014, 8.297, 7.47 , 5.92 ,\n",
       "       5.856, 6.24 , 6.538, 7.691, 6.758, 6.854, 7.267, 6.826, 6.482,\n",
       "       6.812, 7.82 , 6.968, 7.645, 7.923, 7.088, 6.453, 6.23 , 6.209,\n",
       "       6.315, 6.565, 6.861, 7.148, 6.63 , 6.127, 6.009, 6.678, 6.549,\n",
       "       5.79 , 6.345, 7.041, 6.871, 6.59 , 6.495, 6.982, 7.236, 6.616,\n",
       "       7.42 , 6.849, 6.635, 5.972, 4.973, 6.122, 6.023, 6.266, 6.567,\n",
       "       5.705, 5.914, 5.782, 6.382, 6.113, 6.426, 6.376, 6.041, 5.708,\n",
       "       6.415, 6.431, 6.312, 6.083, 5.868, 6.333, 6.144, 5.706, 6.031,\n",
       "       6.316, 6.31 , 6.037, 5.869, 5.895, 6.059, 5.985, 5.968, 7.241,\n",
       "       6.54 , 6.696, 6.874, 6.014, 5.898, 6.516, 6.635, 6.939, 6.49 ,\n",
       "       6.579, 5.884, 6.728, 5.663, 5.936, 6.212, 6.395, 6.127, 6.112,\n",
       "       6.398, 6.251, 5.362, 5.803, 8.78 , 3.561, 4.963, 3.863, 4.97 ,\n",
       "       6.683, 7.016, 6.216, 5.875, 4.906, 4.138, 7.313, 6.649, 6.794,\n",
       "       6.38 , 6.223, 6.968, 6.545, 5.536, 5.52 , 4.368, 5.277, 4.652,\n",
       "       5.   , 4.88 , 5.39 , 5.713, 6.051, 5.036, 6.193, 5.887, 6.471,\n",
       "       6.405, 5.747, 5.453, 5.852, 5.987, 6.343, 6.404, 5.349, 5.531,\n",
       "       5.683, 4.138, 5.608, 5.617, 6.852, 5.757, 6.657, 4.628, 5.155,\n",
       "       4.519, 6.434, 6.782, 5.304, 5.957, 6.824, 6.411, 6.006, 5.648,\n",
       "       6.103, 5.565, 5.896, 5.837, 6.202, 6.193, 6.38 , 6.348, 6.833,\n",
       "       6.425, 6.436, 6.208, 6.629, 6.461, 6.152, 5.935, 5.627, 5.818,\n",
       "       6.406, 6.219, 6.485, 5.854, 6.459, 6.341, 6.251, 6.185, 6.417,\n",
       "       6.749, 6.655, 6.297, 7.393, 6.728, 6.525, 5.976, 5.936, 6.301,\n",
       "       6.081, 6.701, 6.376, 6.317, 6.513, 6.209, 5.759, 5.952, 6.003,\n",
       "       5.926, 5.713, 6.167, 6.229, 6.437, 6.98 , 5.427, 6.162, 6.484,\n",
       "       5.304, 6.185, 6.229, 6.242, 6.75 , 7.061, 5.762, 5.871, 6.312,\n",
       "       6.114, 5.905, 5.454, 5.414, 5.093, 5.983, 5.983, 5.707, 5.926,\n",
       "       5.67 , 5.39 , 5.794, 6.019, 5.569, 6.027, 6.593, 6.12 , 6.976,\n",
       "       6.794, 6.03 ])"
      ]
     },
     "execution_count": 80,
     "metadata": {},
     "output_type": "execute_result"
    }
   ],
   "source": [
    "X_rm = x[:,5]\n",
    "X_rm"
   ]
  },
  {
   "cell_type": "code",
   "execution_count": 82,
   "metadata": {},
   "outputs": [
    {
     "data": {
      "text/plain": [
       "<matplotlib.collections.PathCollection at 0x2b2934a3a58>"
      ]
     },
     "execution_count": 82,
     "metadata": {},
     "output_type": "execute_result"
    },
    {
     "data": {
      "image/png": "[encoded data removed]",
      "text/plain": [
       "<Figure size 432x288 with 1 Axes>"
      ]
     },
     "metadata": {
      "needs_background": "light"
     },
     "output_type": "display_data"
    }
   ],
   "source": [
    "# plot the RM with respect to y\n",
    "plt.scatter(X_rm,y)"
   ]
  },
  {
   "cell_type": "markdown",
   "metadata": {},
   "source": [
    "### Gradient descent"
   ]
  },
  {
   "cell_type": "markdown",
   "metadata": {},
   "source": [
    "### Assume that the target funciton is a linear function\n",
    "$$ y = k*rm + b$$"
   ]
  },
  {
   "cell_type": "code",
   "execution_count": 93,
   "metadata": {},
   "outputs": [],
   "source": [
    "#define target function\n",
    "def price(rm, k, b):\n",
    "    return k * rm + b"
   ]
  },
  {
   "cell_type": "markdown",
   "metadata": {},
   "source": [
    "### Define mean square loss"
   ]
  },
  {
   "cell_type": "markdown",
   "metadata": {},
   "source": [
    "$$ loss = \\frac{1}{n} \\sum{(y_i - \\hat{y_i})}^2$$"
   ]
  },
  {
   "cell_type": "markdown",
   "metadata": {},
   "source": [
    "$$ loss = \\frac{1}{n} \\sum{(y_i - (kx_i + b_i))}^2 $$"
   ]
  },
  {
   "cell_type": "code",
   "execution_count": 83,
   "metadata": {},
   "outputs": [],
   "source": [
    "# define loss function \n",
    "def loss(y, y_hat):\n",
    "    return sum((y_i - y_hat_i)**2 for y_i, y_hat_i in zip(list(y),list(y_hat)))/len(list(y))"
   ]
  },
  {
   "cell_type": "markdown",
   "metadata": {},
   "source": [
    "### Define partial derivatives"
   ]
  },
  {
   "cell_type": "markdown",
   "metadata": {},
   "source": [
    "$$ \\frac{\\partial{loss}}{\\partial{k}} = -\\frac{2}{n}\\sum(y_i - \\hat{y_i})x_i$$\n"
   ]
  },
  {
   "cell_type": "markdown",
   "metadata": {},
   "source": [
    "$$ \\frac{\\partial{loss}}{\\partial{b}} = -\\frac{2}{n}\\sum(y_i - \\hat{y_i})$$"
   ]
  },
  {
   "cell_type": "code",
   "execution_count": 91,
   "metadata": {},
   "outputs": [],
   "source": [
    "# define partial derivative \n",
    "def partial_derivative_k(x, y, y_hat):\n",
    "    n = len(y)\n",
    "    gradient = 0\n",
    "    for x_i, y_i, y_hat_i in zip(list(x),list(y),list(y_hat)):\n",
    "        gradient += (y_i - y_hat_i) * x_i\n",
    "    return -2/n * gradient\n",
    "\n",
    "def partial_derivative_b(y, y_hat):\n",
    "    n = len(y)\n",
    "    gradient = 0\n",
    "    for y_i, y_hat_i in zip(list(y),list(y_hat)):\n",
    "        gradient += (y_i-y_hat_i)\n",
    "    return -2 / n * gradient"
   ]
  },
  {
   "cell_type": "code",
   "execution_count": 94,
   "metadata": {},
   "outputs": [
    {
     "name": "stdout",
     "output_type": "stream",
     "text": [
      "Iteration 0, the loss is 407561.50863901887, parameters k is -90.46518406364521 and b is -43.46066982817618\n",
      "Iteration 1, the loss is 343502.776736077, parameters k is -82.39144197258152 and b is -42.19160166262262\n",
      "Iteration 2, the loss is 289513.60647038487, parameters k is -74.9793781267974 and b is -41.026552667760384\n",
      "Iteration 3, the loss is 244011.13679245996, parameters k is -68.1747649491178 and b is -39.956997993540796\n",
      "Iteration 4, the loss is 205661.32077127084, parameters k is -61.9278190618709 and b is -38.97511144060779\n",
      "Iteration 5, the loss is 173339.8138443101, parameters k is -56.19283706428677 and b is -38.07370820265849\n",
      "Iteration 6, the loss is 146099.01014716752, parameters k is -50.92786115961431 and b is -37.24619230133081\n",
      "Iteration 7, the loss is 123140.26048972241, parameters k is -46.09437218563474 and b is -36.48650832904394\n",
      "Iteration 8, the loss is 103790.45746220028, parameters k is -41.657007802737205 and b is -35.78909714673517\n",
      "Iteration 9, the loss is 87482.30119039076, parameters k is -37.5833037777784 and b is -35.148855212370954\n",
      "Iteration 10, the loss is 73737.66716904337, parameters k is -33.8434564709206 and b is -34.56109724267376\n",
      "Iteration 11, the loss is 62153.58854955888, parameters k is -30.410104787766272 and b is -34.02152193489221\n",
      "Iteration 12, the loss is 52390.44190898645, parameters k is -27.258130001518733 and b is -33.52618049782988\n",
      "Iteration 13, the loss is 44161.9901292662, parameters k is -24.36447198063794 and b is -33.0714477619011\n",
      "Iteration 14, the loss is 37226.990462640635, parameters k is -21.707960477485624 and b is -32.653995656850704\n",
      "Iteration 15, the loss is 31382.121747480094, parameters k is -19.269160243642336 and b is -32.27076886309662\n",
      "Iteration 16, the loss is 26456.023413774896, parameters k is -17.030228838737056 and b is -31.918962458557033\n",
      "Iteration 17, the loss is 22304.271513133608, parameters k is -14.97478609249757 and b is -31.596001397422903\n",
      "Iteration 18, the loss is 18805.144479925573, parameters k is -13.08779426498654 and b is -31.29952167073954\n",
      "Iteration 19, the loss is 15856.054483637832, parameters k is -11.355448028257738 and b is -31.0273530109652\n",
      "Iteration 20, the loss is 13370.539746401993, parameters k is -9.765073464521857 and b is -30.777503013970698\n",
      "Iteration 21, the loss is 11275.7296460908, parameters k is -8.30503534187742 and b is -30.548142562314233\n",
      "Iteration 22, the loss is 9510.208286569265, parameters k is -6.964651989222285 and b is -30.337592443145912\n",
      "Iteration 23, the loss is 8022.2138989934365, parameters k is -5.7341171475578685 and b is -30.14431106283659\n",
      "Iteration 24, the loss is 6768.121283985571, parameters k is -4.604428225938642 and b is -29.966883168449403\n",
      "Iteration 25, the loss is 5711.162802740873, parameters k is -3.56732043717673 and b is -29.80400949353863\n",
      "Iteration 26, the loss is 4820.350418928075, parameters k is -2.6152063314286127 and b is -29.65449725252296\n",
      "Iteration 27, the loss is 4069.5671876770302, parameters k is -1.7411202852826713 and b is -29.517251414088662\n",
      "Iteration 28, the loss is 3436.801555817431, parameters k is -0.9386675402214686 and b is -29.391266689777456\n",
      "Iteration 29, the loss is 2903.5020244898747, parameters k is -0.20197741761656596 and b is -29.275620179146546\n",
      "Iteration 30, the loss is 2454.033254049414, parameters k is 0.47433963203018614 and b is -29.169464617691588\n",
      "Iteration 31, the loss is 2075.217665279117, parameters k is 1.0952314598330082 and b is -29.072022178133466\n",
      "Iteration 32, the loss is 1755.949097522294, parameters k is 1.6652404177374458 and b is -28.98257877971813\n",
      "Iteration 33, the loss is 1486.867196915652, parameters k is 2.188536591043333 and b is -28.90047886389551\n",
      "Iteration 34, the loss is 1260.082988398001, parameters k is 2.6689483073695723 and b is -28.825120598155596\n",
      "Iteration 35, the loss is 1068.9475857813877, parameters k is 3.109990145268844 and b is -28.755951472932182\n",
      "Iteration 36, the loss is 907.857258898395, parameters k is 3.5148886474074486 and b is -28.69246425936066\n",
      "Iteration 37, the loss is 772.0891427605901, parameters k is 3.8866059264317268 and b is -28.634193298316134\n",
      "Iteration 38, the loss is 657.6627720292327, parameters k is 4.2278613362250965 and b is -28.580711093581957\n",
      "Iteration 39, the loss is 561.2233812491078, parameters k is 4.541151367105842 and b is -28.531625184223763\n",
      "Iteration 40, the loss is 479.9435494274995, parameters k is 4.828767910521888 and b is -28.48657527328686\n",
      "Iteration 41, the loss is 411.44030536216593, parameters k is 5.092815026869785 and b is -28.445230591810077\n",
      "Iteration 42, the loss is 353.7052634022492, parameters k is 5.335224339113762 and b is -28.40728747887081\n",
      "Iteration 43, the loss is 305.0457413538637, parameters k is 5.5577691648268575 and b is -28.372467159956507\n",
      "Iteration 44, the loss is 264.0351342179791, parameters k is 5.762077490046243 and b is -28.340513707408842\n",
      "Iteration 45, the loss is 229.4710888118108, parameters k is 5.949643879861401 and b is -28.311192168018863\n",
      "Iteration 46, the loss is 200.3402530321965, parameters k is 6.121840412874786 and b is -28.28428684407435\n",
      "Iteration 47, the loss is 175.78856627557235, parameters k is 6.279926719533116 and b is -28.259599715283247\n",
      "Iteration 48, the loss is 155.09621998548312, parameters k is 6.42505919777122 and b is -28.236948990027713\n",
      "Iteration 49, the loss is 137.65655421790927, parameters k is 6.5582994733914575 and b is -28.216167775349604\n",
      "Iteration 50, the loss is 122.95827151135676, parameters k is 6.680622167076115 and b is -28.197102855936738\n",
      "Iteration 51, the loss is 110.57044660578939, parameters k is 6.79292202485739 and b is -28.179613573176866\n",
      "Iteration 52, the loss is 100.12989252352305, parameters k is 6.896020464212547 and b is -28.163570796078325\n",
      "Iteration 53, the loss is 91.33051260930935, parameters k is 6.99067158367645 and b is -28.14885597652849\n",
      "Iteration 54, the loss is 83.91432635142478, parameters k is 7.077567679938695 and b is -28.135360281978123\n",
      "Iteration 55, the loss is 77.66390587769878, parameters k is 7.157344312789233 and b is -28.12298379920625\n",
      "Iteration 56, the loss is 72.3960013787531, parameters k is 7.230584954968404 and b is -28.11163480334016\n",
      "Iteration 57, the loss is 67.9561685678373, parameters k is 7.297825260940355 and b is -28.101229086782585\n",
      "Iteration 58, the loss is 64.2142406644732, parameters k is 7.359556985820828 and b is -28.09168934313638\n",
      "Iteration 59, the loss is 61.06051214897836, parameters k is 7.416231583130791 and b is -28.082944601619417\n",
      "Iteration 60, the loss is 58.40252240271714, parameters k is 7.468263507697591 and b is -28.074929707831775\n",
      "Iteration 61, the loss is 56.16234493645493, parameters k is 7.516033247868168 and b is -28.06758484707645\n",
      "Iteration 62, the loss is 54.27430273208374, parameters k is 7.5598901092184345 and b is -28.06085510674614\n",
      "Iteration 63, the loss is 52.68304271582946, parameters k is 7.600154770124863 and b is -28.054690074574417\n",
      "Iteration 64, the loss is 51.34191291011285, parameters k is 7.637121627895224 and b is -28.04904346981209\n",
      "Iteration 65, the loss is 50.211594685205355, parameters k is 7.671060952623108 and b is -28.04387280463036\n",
      "Iteration 66, the loss is 49.25895001086835, parameters k is 7.702220864524163 and b is -28.03913907327353\n",
      "Iteration 67, the loss is 48.4560499115578, parameters k is 7.730829149220524 and b is -28.034806466687098\n",
      "Iteration 68, the loss is 47.77935564132793, parameters k is 7.757094924254329 and b is -28.030842110533367\n",
      "Iteration 69, the loss is 47.20902857201901, parameters k is 7.781210169022786 and b is -28.02721582467792\n",
      "Iteration 70, the loss is 46.72834856194761, parameters k is 7.80335112932802 and b is -28.023899902387246\n",
      "Iteration 71, the loss is 46.323223752762445, parameters k is 7.823679606817596 and b is -28.02086890762216\n",
      "Iteration 72, the loss is 45.981777422629804, parameters k is 7.842344142749455 and b is -28.01809948894395\n",
      "Iteration 73, the loss is 45.693999783060626, parameters k is 7.8594811047418665 and b is -28.01557020867178\n",
      "Iteration 74, the loss is 45.451454510715756, parameters k is 7.875215684459226 and b is -28.013261386041417\n",
      "Iteration 75, the loss is 45.24703141025428, parameters k is 7.889662813532905 and b is -28.011154953217844\n",
      "Iteration 76, the loss is 45.0747379567625, parameters k is 7.902928004418173 and b is -28.009234323108267\n",
      "Iteration 77, the loss is 44.92952360618115, parameters k is 7.915108122339023 and b is -28.007484268008493\n",
      "Iteration 78, the loss is 44.807131722841085, parameters k is 7.926292093968577 and b is -28.005890808194774\n",
      "Iteration 79, the loss is 44.70397478290224, parameters k is 7.936561558029854 and b is -28.004441109646063\n",
      "Iteration 80, the loss is 44.61702919489348, parameters k is 7.945991462576825 and b is -28.003123390148406\n",
      "Iteration 81, the loss is 44.54374665369085, parameters k is 7.954650613325532 and b is -28.001926833094515\n",
      "Iteration 82, the loss is 44.48197942899901, parameters k is 7.962602177046943 and b is -28.000841508347854\n",
      "Iteration 83, the loss is 44.429917397932655, parameters k is 7.969904143704459 and b is -27.99985829959228\n",
      "Iteration 84, the loss is 44.38603497561471, parameters k is 7.97660975071711 and b is -27.99896883763572\n",
      "Iteration 85, the loss is 44.34904638789335, parameters k is 7.982767872452442 and b is -27.99816543917991\n",
      "Iteration 86, the loss is 44.31786797485933, parameters k is 7.9884233777986635 and b is -27.997441050608252\n",
      "Iteration 87, the loss is 44.29158641997318, parameters k is 7.99361745843211 and b is -27.99678919638049\n",
      "Iteration 88, the loss is 44.26943197333978, parameters k is 7.9983879301816785 and b is -27.996203931656705\n",
      "Iteration 89, the loss is 44.25075588408793, parameters k is 8.002769509695064 and b is -27.99567979880397\n",
      "Iteration 90, the loss is 44.23501138021299, parameters k is 8.006794068430917 and b is -27.9952117874675\n",
      "Iteration 91, the loss is 44.22173763824919, parameters k is 8.010490865835182 and b is -27.994795297914155\n",
      "Iteration 92, the loss is 44.21054627279122, parameters k is 8.013886763407559 and b is -27.994426107380097\n",
      "Iteration 93, the loss is 44.20110994976381, parameters k is 8.017006421224233 and b is -27.994100339176423\n",
      "Iteration 94, the loss is 44.193152789601214, parameters k is 8.019872478354658 and b is -27.99381443432674\n",
      "Iteration 95, the loss is 44.18644227897732, parameters k is 8.02250571849237 and b is -27.99356512552915\n",
      "Iteration 96, the loss is 44.180782453950805, parameters k is 8.02492522201157 and b is -27.9933494132522\n",
      "Iteration 97, the loss is 44.176008154671386, parameters k is 8.027148505561989 and b is -27.993164543789835\n",
      "Iteration 98, the loss is 44.17198018320257, parameters k is 8.029191650223302 and b is -27.9930079891149\n",
      "Iteration 99, the loss is 44.16858122250017, parameters k is 8.0310694191567 and b is -27.99287742838371\n",
      "Iteration 100, the loss is 44.16571239689658, parameters k is 8.032795365614376 and b is -27.992770730956405\n",
      "Iteration 101, the loss is 44.163290373252266, parameters k is 8.03438193209714 and b is -27.992685940808872\n",
      "Iteration 102, the loss is 44.16124491778421, parameters k is 8.035840541385596 and b is -27.992621262222183\n",
      "Iteration 103, the loss is 44.159516836943915, parameters k is 8.037181680110915 and b is -27.992575046644852\n",
      "Iteration 104, the loss is 44.15805624197349, parameters k is 8.038414975476583 and b is -27.99254578063178\n",
      "Iteration 105, the loss is 44.15682108626069, parameters k is 8.03954926569246 and b is -27.992532074771663\n",
      "Iteration 106, the loss is 44.15577593261174, parameters k is 8.040592664636431 and b is -27.99253265352186\n",
      "Iteration 107, the loss is 44.154890914299216, parameters k is 8.041552621216757 and b is -27.99254634587632\n",
      "Iteration 108, the loss is 44.15414085942528, parameters k is 8.042435973869384 and b is -27.992572076798343\n",
      "Iteration 109, the loss is 44.15350455292973, parameters k is 8.043249000588963 and b is -27.992608859355435\n",
      "Iteration 110, the loss is 44.15296411460375, parameters k is 8.043997464859595 and b is -27.992655787498773\n",
      "Iteration 111, the loss is 44.15250447487557, parameters k is 8.044686657821336 and b is -27.992712029434408\n",
      "Iteration 112, the loss is 44.15211293299974, parameters k is 8.045321436980965 and b is -27.992776821537745\n",
      "Iteration 113, the loss is 44.15177878469429, parameters k is 8.045906261750229 and b is -27.992849462766745\n",
      "Iteration 114, the loss is 44.15149300831165, parameters k is 8.046445226071562 and b is -27.992929309533\n",
      "Iteration 115, the loss is 44.15124800034114, parameters k is 8.046942088369976 and b is -27.993015770993136\n",
      "Iteration 116, the loss is 44.15103735248774, parameters k is 8.047400299050256 and b is -27.993108304726125\n",
      "Iteration 117, the loss is 44.1508556637936, parameters k is 8.047823025740641 and b is -27.993206412764845\n",
      "Iteration 118, the loss is 44.15069838229139, parameters k is 8.048213176467655 and b is -27.993309637952876\n",
      "Iteration 119, the loss is 44.150561671549866, parameters k is 8.048573420931673 and b is -27.99341756059988\n",
      "Iteration 120, the loss is 44.150442298196396, parameters k is 8.048906210038835 and b is -27.993529795411085\n",
      "Iteration 121, the loss is 44.15033753712071, parameters k is 8.049213793832246 and b is -27.9936459886684\n",
      "Iteration 122, the loss is 44.15024509157997, parameters k is 8.049498237953626 and b is -27.993765815642572\n",
      "Iteration 123, the loss is 44.150163025862305, parameters k is 8.049761438755851 and b is -27.993888978217406\n",
      "Iteration 124, the loss is 44.15008970853538, parameters k is 8.050005137176951 and b is -27.994015202708717\n",
      "Iteration 125, the loss is 44.15002376461643, parameters k is 8.050230931477078 and b is -27.994144237862\n",
      "Iteration 126, the loss is 44.149964035259416, parameters k is 8.050440288931608 and b is -27.994275853014223\n",
      "Iteration 127, the loss is 44.149909543780616, parameters k is 8.050634556565948 and b is -27.994409836406255\n",
      "Iteration 128, the loss is 44.14985946702369, parameters k is 8.050814971010576 and b is -27.994545993633615\n",
      "Iteration 129, the loss is 44.14981311122647, parameters k is 8.050982667548412 and b is -27.994684146224166\n",
      "Iteration 130, the loss is 44.14976989168117, parameters k is 8.051138688420721 and b is -27.994824130332393\n",
      "Iteration 131, the loss is 44.149729315591465, parameters k is 8.051283990452296 and b is -27.994965795540683\n",
      "Iteration 132, the loss is 44.149690967625375, parameters k is 8.05141945205174 and b is -27.99510900375884\n",
      "Iteration 133, the loss is 44.14965449773775, parameters k is 8.051545879638025 and b is -27.995253628213817\n",
      "Iteration 134, the loss is 44.149619610908104, parameters k is 8.051664013540385 and b is -27.995399552522194\n",
      "Iteration 135, the loss is 44.14958605849088, parameters k is 8.051774533414662 and b is -27.995546669838728\n",
      "Iteration 136, the loss is 44.149553630925816, parameters k is 8.051878063215778 and b is -27.99569488207463\n",
      "Iteration 137, the loss is 44.14952215159405, parameters k is 8.051975175762678 and b is -27.99584409917996\n",
      "Iteration 138, the loss is 44.14949147163976, parameters k is 8.05206639692916 and b is -27.99599423848478\n",
      "Iteration 139, the loss is 44.14946146560631, parameters k is 8.052152209491243 and b is -27.996145224094352\n",
      "Iteration 140, the loss is 44.14943202775768, parameters k is 8.052233056659235 and b is -27.99629698633386\n",
      "Iteration 141, the loss is 44.14940306897907, parameters k is 8.052309345320317 and b is -27.996449461238672\n",
      "Iteration 142, the loss is 44.14937451416365, parameters k is 8.052381449015398 and b is -27.99660259008636\n",
      "Iteration 143, the loss is 44.14934630001085, parameters k is 8.052449710671986 and b is -27.99675631896708\n",
      "Iteration 144, the loss is 44.149318373170516, parameters k is 8.05251444511311 and b is -27.996910598389146\n",
      "Iteration 145, the loss is 44.149290688678796, parameters k is 8.052575941360598 and b is -27.997065382916954\n",
      "Iteration 146, the loss is 44.14926320863957, parameters k is 8.052634464749612 and b is -27.997220630838573\n",
      "Iteration 147, the loss is 44.14923590111402, parameters k is 8.052690258869882 and b is -27.997376303860552\n",
      "Iteration 148, the loss is 44.14920873918366, parameters k is 8.052743547347834 and b is -27.997532366827784\n",
      "Iteration 149, the loss is 44.14918170016145, parameters k is 8.052794535482683 and b is -27.99768878746628\n",
      "Iteration 150, the loss is 44.149154764926585, parameters k is 8.052843411748427 and b is -27.99784553614707\n",
      "Iteration 151, the loss is 44.149127917363835, parameters k is 8.052890349172758 and b is -27.998002585669422\n",
      "Iteration 152, the loss is 44.14910114389127, parameters k is 8.052935506602951 and b is -27.99815991106183\n",
      "Iteration 153, the loss is 44.149074433061784, parameters k is 8.05297902986802 and b is -27.99831748939933\n",
      "Iteration 154, the loss is 44.14904777522777, parameters k is 8.053021052845617 and b is -27.99847529963577\n",
      "Iteration 155, the loss is 44.14902116225815, parameters k is 8.053061698441507 and b is -27.99863332244984\n",
      "Iteration 156, the loss is 44.14899458729996, parameters k is 8.053101079488764 and b is -27.998791540103703\n",
      "Iteration 157, the loss is 44.148968044577366, parameters k is 8.053139299573274 and b is -27.998949936313224\n",
      "Iteration 158, the loss is 44.148941529222554, parameters k is 8.053176453791584 and b is -27.99910849612884\n",
      "Iteration 159, the loss is 44.14891503713294, parameters k is 8.05321262944664 and b is -27.999267205826182\n",
      "Iteration 160, the loss is 44.14888856485052, parameters k is 8.053247906686515 and b is -27.99942605280566\n",
      "Iteration 161, the loss is 44.14886210946138, parameters k is 8.053282359090776 and b is -27.999585025500288\n",
      "Iteration 162, the loss is 44.1488356685091, parameters k is 8.053316054208809 and b is -27.999744113291058\n",
      "Iteration 163, the loss is 44.14880923992375, parameters k is 8.053349054054017 and b is -27.99990330642924\n",
      "Iteration 164, the loss is 44.14878282196059, parameters k is 8.053381415557524 and b is -28.00006259596507\n",
      "Iteration 165, the loss is 44.148756413149165, parameters k is 8.053413190984683 and b is -28.00022197368226\n",
      "Iteration 166, the loss is 44.14873001225019, parameters k is 8.053444428317464 and b is -28.000381432037905\n",
      "Iteration 167, the loss is 44.14870361821925, parameters k is 8.053475171605495 and b is -28.00054096410727\n",
      "Iteration 168, the loss is 44.14867723017578, parameters k is 8.053505461288335 and b is -28.000700563533144\n",
      "Iteration 169, the loss is 44.148650847378036, parameters k is 8.053535334491338 and b is -28.000860224479332\n",
      "Iteration 170, the loss is 44.1486244692006, parameters k is 8.053564825297263 and b is -28.001019941587945\n",
      "Iteration 171, the loss is 44.1485980951164, parameters k is 8.053593964995633 and b is -28.001179709940207\n",
      "Iteration 172, the loss is 44.14857172468133, parameters k is 8.053622782311649 and b is -28.001339525020466\n",
      "Iteration 173, the loss is 44.14854535752088, parameters k is 8.053651303616356 and b is -28.001499382683154\n",
      "Iteration 174, the loss is 44.148518993319556, parameters k is 8.053679553119565 and b is -28.00165927912246\n",
      "Iteration 175, the loss is 44.14849263181135, parameters k is 8.05370755304699 and b is -28.001819210844488\n",
      "Iteration 176, the loss is 44.1484662727722, parameters k is 8.053735323802842 and b is -28.001979174641686\n",
      "Iteration 177, the loss is 44.14843991601304, parameters k is 8.053762884119115 and b is -28.002139167569382\n",
      "Iteration 178, the loss is 44.14841356137476, parameters k is 8.05379025119263 and b is -28.002299186924247\n",
      "Iteration 179, the loss is 44.14838720872307, parameters k is 8.053817440810855 and b is -28.002459230224506\n",
      "Iteration 180, the loss is 44.14836085794485, parameters k is 8.053844467467398 and b is -28.00261929519178\n",
      "Iteration 181, the loss is 44.148334508944764, parameters k is 8.053871344468053 and b is -28.002779379734434\n",
      "Iteration 182, the loss is 44.14830816164238, parameters k is 8.053898084028145 and b is -28.002939481932245\n",
      "Iteration 183, the loss is 44.14828181596993, parameters k is 8.053924697361897 and b is -28.003099600022377\n",
      "Iteration 184, the loss is 44.148255471870335, parameters k is 8.053951194764474 and b is -28.003259732386475\n",
      "Iteration 185, the loss is 44.1482291292955, parameters k is 8.05397758568731 and b is -28.00341987753882\n",
      "Iteration 186, the loss is 44.14820278820482, parameters k is 8.054003878807249 and b is -28.003580034115465\n",
      "Iteration 187, the loss is 44.148176448564, parameters k is 8.05403008209003 and b is -28.003740200864247\n",
      "Iteration 188, the loss is 44.14815011034433, parameters k is 8.054056202848564 and b is -28.003900376635634\n",
      "Iteration 189, the loss is 44.14812377352127, parameters k is 8.054082247796437 and b is -28.004060560374313\n",
      "Iteration 190, the loss is 44.14809743807454, parameters k is 8.054108223097025 and b is -28.004220751111465\n",
      "Iteration 191, the loss is 44.14807110398675, parameters k is 8.054134134408589 and b is -28.004380947957678\n",
      "Iteration 192, the loss is 44.14804477124333, parameters k is 8.054159986925672 and b is -28.004541150096436\n",
      "Iteration 193, the loss is 44.14801843983187, parameters k is 8.054185785417102 and b is -28.004701356778153\n",
      "Iteration 194, the loss is 44.14799210974213, parameters k is 8.054211534260878 and b is -28.00486156731468\n",
      "Iteration 195, the loss is 44.14796578096534, parameters k is 8.054237237476205 and b is -28.005021781074273\n",
      "Iteration 196, the loss is 44.147939453494104, parameters k is 8.054262898752894 and b is -28.005181997476967\n",
      "Iteration 197, the loss is 44.147913127322155, parameters k is 8.054288521478366 and b is -28.00534221599034\n",
      "Iteration 198, the loss is 44.14788680244418, parameters k is 8.054314108762423 and b is -28.00550243612561\n",
      "Iteration 199, the loss is 44.147860478855875, parameters k is 8.054339663460008 and b is -28.00566265743406\n"
     ]
    }
   ],
   "source": [
    "#initialized parameters\n",
    "\n",
    "k = random.random() * 200 - 100  # -100 100\n",
    "b = random.random() * 200 - 100  # -100 100\n",
    "\n",
    "learning_rate = 1e-3\n",
    "\n",
    "iteration_num = 200 \n",
    "losses = []\n",
    "for i in range(iteration_num):\n",
    "    \n",
    "    price_use_current_parameters = [price(r, k, b) for r in X_rm]  # \\hat{y}\n",
    "    \n",
    "    current_loss = loss(y, price_use_current_parameters)\n",
    "    losses.append(current_loss)\n",
    "    print(\"Iteration {}, the loss is {}, parameters k is {} and b is {}\".format(i,current_loss,k,b))\n",
    "    \n",
    "    k_gradient = partial_derivative_k(X_rm, y, price_use_current_parameters)\n",
    "    b_gradient = partial_derivative_b(y, price_use_current_parameters)\n",
    "    \n",
    "    k = k + (-1 * k_gradient) * learning_rate\n",
    "    b = b + (-1 * b_gradient) * learning_rate\n",
    "best_k = k\n",
    "best_b = b\n"
   ]
  },
  {
   "cell_type": "code",
   "execution_count": 95,
   "metadata": {},
   "outputs": [
    {
     "data": {
      "text/plain": [
       "[<matplotlib.lines.Line2D at 0x2b2933a79e8>]"
      ]
     },
     "execution_count": 95,
     "metadata": {},
     "output_type": "execute_result"
    },
    {
     "data": {
      "image/png": "[encoded data removed]",
      "text/plain": [
       "<Figure size 432x288 with 1 Axes>"
      ]
     },
     "metadata": {
      "needs_background": "light"
     },
     "output_type": "display_data"
    }
   ],
   "source": [
    "plt.plot(list(range(iteration_num)),losses)"
   ]
  },
  {
   "cell_type": "code",
   "execution_count": 99,
   "metadata": {},
   "outputs": [
    {
     "data": {
      "text/plain": [
       "<matplotlib.collections.PathCollection at 0x2b29359b4e0>"
      ]
     },
     "execution_count": 99,
     "metadata": {},
     "output_type": "execute_result"
    },
    {
     "data": {
      "image/png": "[encoded data removed]",
      "text/plain": [
       "<Figure size 432x288 with 1 Axes>"
      ]
     },
     "metadata": {
      "needs_background": "light"
     },
     "output_type": "display_data"
    }
   ],
   "source": [
    "price_use_best_parameters = [price(r, best_k, best_b) for r in X_rm]\n",
    "\n",
    "plt.scatter(X_rm,y)\n",
    "plt.scatter(X_rm,price_use_current_parameters)"
   ]
  }
 ],
 "metadata": {
  "kernelspec": {
   "display_name": "Python 3",
   "language": "python",
   "name": "python3"
  },
  "language_info": {
   "codemirror_mode": {
    "name": "ipython",
    "version": 3
   },
   "file_extension": ".py",
   "mimetype": "text/x-python",
   "name": "python",
   "nbconvert_exporter": "python",
   "pygments_lexer": "ipython3",
   "version": "3.7.1"
  }
 },
 "nbformat": 4,
 "nbformat_minor": 2
}
